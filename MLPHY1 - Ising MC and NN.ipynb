{
 "cells": [
  {
   "cell_type": "markdown",
   "metadata": {},
   "source": [
    "# Machine Learning Ising model from scratch:\n",
    "In this notebook, Markov Chain Monte Carlo sampling is used to sample configurations of Ising model for T=1 to T=3. Full-connected Neural Network(FCNN) is applied to learn the classifier of paramagnetism and ferromagnetism phases. The FCNN is done from scratch and later by TensorFlow.\n"
   ]
  },
  {
   "cell_type": "markdown",
   "metadata": {},
   "source": [
    "# Classical Ising model\n",
    "$H=-J\\sum_{<i,j>}S_{i}S_{j}$\n",
    "The \"data\" of the ML problem corresponds to configuration of Ising model.\n",
    "That is, $\\vec{x}=(s_{1},s_{2},...,s_{N})$ where $s_{i}= 1, -1$."
   ]
  },
  {
   "cell_type": "markdown",
   "metadata": {},
   "source": [
    "We label our Ising model data by its phase. For $T<T_{C}$ we label this ferromagnetic phase $y=1$ and $T>T_{C}$ for paramagnetic phase,  $y=0$"
   ]
  },
  {
   "cell_type": "markdown",
   "metadata": {},
   "source": [
    "We'll generate those datas from some distribution by Monte Carlo method. The distribution behind the data is Boltzmann distribution $P_{\\mu}=\\frac{1}{Z}e^{-\\beta E_{\\mu}}$"
   ]
  },
  {
   "cell_type": "markdown",
   "metadata": {},
   "source": [
    "We use MCMC to sample states by updating the current state $\\mu$ to next one $\\nu$. In principle, any rule of updating is possible. For example, given state $\\vec{x}_{\\mu}=(1,-1,-1,1,1)$, we can propose next one $\\vec{x}_{\\nu}$ by\n"
   ]
  },
  {
   "cell_type": "markdown",
   "metadata": {},
   "source": [
    "(1)Single spin flip: $\\vec{x}_{\\nu}=(-1,-1,-1,1,1)$ "
   ]
  },
  {
   "cell_type": "markdown",
   "metadata": {},
   "source": [
    "(2)Non-local spin flip (cluster algorithm): $\\vec{x}_{\\nu}=(-1,1,1,-1,-1)$   (Just for specific example)"
   ]
  },
  {
   "cell_type": "markdown",
   "metadata": {},
   "source": [
    "However, we should restrict the rule of updating due to the $P_{\\mu}$ from which we hope our sampling won't be too irrelevant, the so-called importance sampling. We should encode the underlying Boltzmann distribution to our sampling rule which we denote by $T(\\mu \\rightarrow\\nu)$. Computationally we can write this T by $T(\\mu\\rightarrow\\nu)=g(\\mu\\rightarrow\\nu)A(\\mu\\rightarrow\\nu)$, where $g(\\mu\\rightarrow\\nu)$ is proposal rate and $A(\\mu\\rightarrow\\nu)$ is acceptance rate. The transition probability $T(\\mu \\rightarrow\\nu)$ satisfies the following two quite general conditions:"
   ]
  },
  {
   "cell_type": "markdown",
   "metadata": {},
   "source": [
    "(1) Normalized transition probability: $\\sum_{\\nu}T(\\mu\\rightarrow\\nu)=1$"
   ]
  },
  {
   "cell_type": "markdown",
   "metadata": {},
   "source": [
    "(2) Detailed balance: $P_{\\nu}T(\\nu\\rightarrow\\mu)=P_{\\mu}T(\\mu\\rightarrow\\nu)$"
   ]
  },
  {
   "cell_type": "markdown",
   "metadata": {},
   "source": [
    "Since $P_{\\mu}$ is Boltzmann distribution, apply detailed balance then we have $\\frac{T(\\mu->\\nu)}{T(\\nu->\\mu)}=e^{-\\beta(E_{\\nu}-E_{\\mu})}$"
   ]
  },
  {
   "cell_type": "markdown",
   "metadata": {},
   "source": [
    "Write by proposal and acceptance rate, we have $\\frac{A(\\mu\\rightarrow\\nu)}{A(\\nu\\rightarrow\\mu)}=\\frac{g(\\nu\\rightarrow\\mu)}{g(\\mu\\rightarrow\\nu)}e^{-\\beta(E_{\\nu}-E_{\\mu})}$"
   ]
  },
  {
   "cell_type": "markdown",
   "metadata": {},
   "source": [
    "Any Monte Carlo algorithm with g and A satisfying this equation can do the job. One of them is the famous Metropolis Algorithm: $A(\\mu\\rightarrow\\nu)=\\text{min}(1,\\frac{g(\\nu\\rightarrow\\mu)}{g(\\mu\\rightarrow\\nu)}e^{-\\beta(E_{\\nu}-E_{\\mu})})$. This way of encoding underlying distribution can optimizes the acceptance rate under the consideration of importance sampling. That is, proposal of the highly probable states should be highly accepted. The higher the acceptance rate for important states the more efficient the sampling is."
   ]
  },
  {
   "cell_type": "markdown",
   "metadata": {},
   "source": [
    "# Applications of Monte Carlo in Machine Learning (To be completed...)\n",
    "MCMC sampling can be used in many ML algorithm in the future, here we list some yet many more items are to be included"
   ]
  },
  {
   "cell_type": "markdown",
   "metadata": {},
   "source": [
    "(1) Sampling states.\n",
    "(2) Approximate the gradient in RBM. \n",
    "(3)...."
   ]
  },
  {
   "cell_type": "markdown",
   "metadata": {},
   "source": [
    "# Pseudo code of MCMC sampling\n"
   ]
  },
  {
   "cell_type": "markdown",
   "metadata": {},
   "source": [
    "choose an initial state $\\mu_{1}$ randomly."
   ]
  },
  {
   "cell_type": "markdown",
   "metadata": {},
   "source": [
    "for i = 2 ~ N"
   ]
  },
  {
   "cell_type": "markdown",
   "metadata": {},
   "source": [
    "{    "
   ]
  },
  {
   "cell_type": "markdown",
   "metadata": {},
   "source": [
    "use $g(\\mu_{i-1}\\rightarrow\\nu)$ to propose an update"
   ]
  },
  {
   "cell_type": "markdown",
   "metadata": {},
   "source": [
    "generate a number r uniformly randomly from [0,1)\n",
    "    "
   ]
  },
  {
   "cell_type": "markdown",
   "metadata": {},
   "source": [
    "compare this random number r with A($\\mu_{1}\\rightarrow\\nu$) which is from Metropolis algorithm : \n",
    "if r< A($\\mu_{1}\\rightarrow\\nu$)  then accept this new state by assigning $\\mu_{i}=\\nu$\n",
    "    "
   ]
  },
  {
   "cell_type": "markdown",
   "metadata": {},
   "source": [
    "else $\\mu_{i}=\\mu_{i-1}$"
   ]
  },
  {
   "cell_type": "markdown",
   "metadata": {},
   "source": [
    "}"
   ]
  },
  {
   "cell_type": "code",
   "execution_count": 1,
   "metadata": {},
   "outputs": [],
   "source": [
    "import tensorflow as tf\n",
    "import numpy as np\n",
    "import pandas as pd\n",
    "import random\n",
    "import math\n",
    "import matplotlib.pyplot as plt\n",
    "from scipy.stats import boltzmann as bzm"
   ]
  },
  {
   "cell_type": "markdown",
   "metadata": {},
   "source": [
    "Now we use MCMC to sample states and calculate the average energy of the whole system at some temperature T."
   ]
  },
  {
   "cell_type": "code",
   "execution_count": 2,
   "metadata": {},
   "outputs": [
    {
     "name": "stdout",
     "output_type": "stream",
     "text": [
      "mean energy per spin: -1.7392933333333334 Number of acceptance 2537 acceptance rate: 0.08456666666666666\n"
     ]
    }
   ],
   "source": [
    "# Define energy function to calculate energy according to Ising Hamiltonian\n",
    "def energy(state, N, nbr):\n",
    "    E = 0.0\n",
    "    for k in range(N):\n",
    "        E -=  state[k] * sum(state[nn] for nn in nbr[k])\n",
    "    return 0.5 * E\n",
    "\n",
    "# Define the lattice by neighbors of each site. (with periodic b.c.)\n",
    "L = 10\n",
    "N = L * L\n",
    "nbr = {i : ((i // L) * L + (i + 1) % L, (i + L) % N,\n",
    "            (i // L) * L + (i - 1) % L, (i - L) % N) \\\n",
    "                                    for i in range(N)}\n",
    "\n",
    "T = 2.0                                                             # Temperature\n",
    "state = [random.choice([1, -1]) for k in range(N)]                  # Generate an initial state randomly\n",
    "nsteps = N * 300                                                    # Number of proposals\n",
    "Energy = energy(state, N, nbr)                                      # Energy of the whole lattice initially\n",
    "E = np.zeros(nsteps)                                                # To record energies of sampled states\n",
    "States = np.zeros((nsteps,N))                                           # To record sampled states\n",
    "accept = 0                                                          # To Count the number of acceptance\n",
    "for step in range(nsteps):                                          # Going to propose nstep move to flip spin\n",
    "    k = random.randint(0, N - 1)                                    # Randomly pick a spin among the N sites   \n",
    "    delta_E = 2.0 * state[k] * sum(state[nn] for nn in nbr[k])      # Calculate the energy change due to this flip. \n",
    "    if random.uniform(0.0, 1.0) < math.exp(-1.0 / T * delta_E):     # The condition for acceptance (Think about the condition)\n",
    "        accept += 1\n",
    "        state[k] *= -1                                              # Satisfy the condition, flip this spin\n",
    "        Energy += delta_E                                           # Fulfill the energy change\n",
    "    States[step] = np.array(state)                                  # Record this new state\n",
    "    E[step] = Energy                                                # Record the energy of this step\n",
    "    \n",
    "print('mean energy per spin:', sum(E) / float(len(E) * N),'Number of acceptance', accept, 'acceptance rate:', accept/nsteps)          "
   ]
  },
  {
   "cell_type": "markdown",
   "metadata": {},
   "source": [
    "Before we sample more states for different temperatures T, we note that in the present T=2 case, the states we sample are indeed the relevant ones as shown in the histogram graph below."
   ]
  },
  {
   "cell_type": "code",
   "execution_count": 3,
   "metadata": {},
   "outputs": [
    {
     "data": {
      "text/plain": [
       "(array([6.763e+03, 6.968e+03, 5.195e+03, 6.570e+03, 2.454e+03, 7.750e+02,\n",
       "        6.940e+02, 1.150e+02, 5.400e+01, 9.400e+01, 1.580e+02, 7.300e+01,\n",
       "        2.300e+01, 1.400e+01, 7.000e+00, 7.000e+00, 3.000e+00, 8.000e+00,\n",
       "        2.200e+01, 3.000e+00]),\n",
       " array([-2.   , -1.894, -1.788, -1.682, -1.576, -1.47 , -1.364, -1.258,\n",
       "        -1.152, -1.046, -0.94 , -0.834, -0.728, -0.622, -0.516, -0.41 ,\n",
       "        -0.304, -0.198, -0.092,  0.014,  0.12 ]),\n",
       " <a list of 20 Patch objects>)"
      ]
     },
     "execution_count": 3,
     "metadata": {},
     "output_type": "execute_result"
    },
    {
     "data": {
      "image/png": "[encoded data removed]",
      "text/plain": [
       "<Figure size 432x288 with 1 Axes>"
      ]
     },
     "metadata": {
      "needs_background": "light"
     },
     "output_type": "display_data"
    }
   ],
   "source": [
    "plt.hist(E/N,bins=20)"
   ]
  },
  {
   "cell_type": "markdown",
   "metadata": {},
   "source": [
    "# Start sampling\n",
    "First, define the system size."
   ]
  },
  {
   "cell_type": "code",
   "execution_count": 4,
   "metadata": {},
   "outputs": [],
   "source": [
    "# Define the lattice by neighbors of each site. (with periodic b.c.)\n",
    "L = 10\n",
    "N = L * L\n",
    "nbr = {i : ((i // L) * L + (i + 1) % L, (i + L) % N,\n",
    "            (i // L) * L + (i - 1) % L, (i - L) % N) \\\n",
    "                                    for i in range(N)}"
   ]
  },
  {
   "cell_type": "markdown",
   "metadata": {},
   "source": [
    "To sample for different T, we divide the temperature interval from T=1 to T=3 into pieces."
   ]
  },
  {
   "cell_type": "code",
   "execution_count": 5,
   "metadata": {},
   "outputs": [
    {
     "data": {
      "text/plain": [
       "array([1.  , 1.01, 1.02, 1.03, 1.04, 1.05, 1.06, 1.07, 1.08, 1.09, 1.1 ,\n",
       "       1.11, 1.12, 1.13, 1.14, 1.15, 1.16, 1.17, 1.18, 1.19, 1.2 , 1.21,\n",
       "       1.22, 1.23, 1.24, 1.25, 1.26, 1.27, 1.28, 1.29, 1.3 , 1.31, 1.32,\n",
       "       1.33, 1.34, 1.35, 1.36, 1.37, 1.38, 1.39, 1.4 , 1.41, 1.42, 1.43,\n",
       "       1.44, 1.45, 1.46, 1.47, 1.48, 1.49, 1.5 , 1.51, 1.52, 1.53, 1.54,\n",
       "       1.55, 1.56, 1.57, 1.58, 1.59, 1.6 , 1.61, 1.62, 1.63, 1.64, 1.65,\n",
       "       1.66, 1.67, 1.68, 1.69, 1.7 , 1.71, 1.72, 1.73, 1.74, 1.75, 1.76,\n",
       "       1.77, 1.78, 1.79, 1.8 , 1.81, 1.82, 1.83, 1.84, 1.85, 1.86, 1.87,\n",
       "       1.88, 1.89, 1.9 , 1.91, 1.92, 1.93, 1.94, 1.95, 1.96, 1.97, 1.98,\n",
       "       1.99, 2.  , 2.01, 2.02, 2.03, 2.04, 2.05, 2.06, 2.07, 2.08, 2.09,\n",
       "       2.1 , 2.11, 2.12, 2.13, 2.14, 2.15, 2.16, 2.17, 2.18, 2.19, 2.2 ,\n",
       "       2.21, 2.22, 2.23, 2.24, 2.25, 2.26, 2.27, 2.28, 2.29, 2.3 , 2.31,\n",
       "       2.32, 2.33, 2.34, 2.35, 2.36, 2.37, 2.38, 2.39, 2.4 , 2.41, 2.42,\n",
       "       2.43, 2.44, 2.45, 2.46, 2.47, 2.48, 2.49, 2.5 , 2.51, 2.52, 2.53,\n",
       "       2.54, 2.55, 2.56, 2.57, 2.58, 2.59, 2.6 , 2.61, 2.62, 2.63, 2.64,\n",
       "       2.65, 2.66, 2.67, 2.68, 2.69, 2.7 , 2.71, 2.72, 2.73, 2.74, 2.75,\n",
       "       2.76, 2.77, 2.78, 2.79, 2.8 , 2.81, 2.82, 2.83, 2.84, 2.85, 2.86,\n",
       "       2.87, 2.88, 2.89, 2.9 , 2.91, 2.92, 2.93, 2.94, 2.95, 2.96, 2.97,\n",
       "       2.98, 2.99])"
      ]
     },
     "execution_count": 5,
     "metadata": {},
     "output_type": "execute_result"
    }
   ],
   "source": [
    "T = np.zeros(200)                                              # Set up temperature series\n",
    "T[0] = 1\n",
    "for delta in range(199): \n",
    "    T[delta+1] = T[delta]+0.01\n",
    "T    "
   ]
  },
  {
   "cell_type": "code",
   "execution_count": 6,
   "metadata": {},
   "outputs": [],
   "source": [
    "nsteps = N * 100                                                        # Number of proposals\n",
    "S = np.zeros((len(T),nsteps,N))                                         # To record sampled states\n",
    "E = np.zeros((len(T), nsteps))                                          # To record energies of sampled states\n",
    "state = [random.choice([1, -1]) for k in range(N)]                      # Generate an initial state randomly\n",
    "Energy = energy(state, N, nbr)                                          # Energy of the whole lattice initially\n",
    "\n",
    "for t in range(len(T)):                                                 # iterate all temperatures\n",
    "    for step in range(nsteps):                                          # Going to propose nstep move to flip spin\n",
    "        k = random.randint(0, N - 1)                                    # Randomly pick a spin among the N sites   \n",
    "        delta_E = 2.0 * state[k] * sum(state[nn] for nn in nbr[k])      # Calculate the energy change due to this flip. \n",
    "        if random.uniform(0.0, 1.0) < math.exp(-1.0 / T[t] * delta_E):     # The condition for acceptance (Think about the condition)\n",
    "            state[k] *= -1                                              # Satisfy the condition, flip this spin\n",
    "            Energy += delta_E                                           # Fulfill the energy change\n",
    "        S[t, step] = np.array(state)                                    # Record this new state\n",
    "        E[t, step] = Energy                                             # Record the energy of this step\n",
    "    "
   ]
  },
  {
   "cell_type": "code",
   "execution_count": 7,
   "metadata": {},
   "outputs": [
    {
     "data": {
      "text/plain": [
       "(200, 10000, 100)"
      ]
     },
     "execution_count": 7,
     "metadata": {},
     "output_type": "execute_result"
    }
   ],
   "source": [
    "S.shape # We have dataset S now , where S[T][i][j] is spin value of jth site in ith data at temperature T"
   ]
  },
  {
   "cell_type": "code",
   "execution_count": 8,
   "metadata": {},
   "outputs": [
    {
     "data": {
      "text/plain": [
       "(array([ 842.,    0., 1128.,  297., 1619.,  690.,  939., 1007., 1182.,\n",
       "           0.,  883.,  376.,  317.,  211.,  169.,  224.,   67.,   11.,\n",
       "          20.,   18.]),\n",
       " array([-2.   , -1.964, -1.928, -1.892, -1.856, -1.82 , -1.784, -1.748,\n",
       "        -1.712, -1.676, -1.64 , -1.604, -1.568, -1.532, -1.496, -1.46 ,\n",
       "        -1.424, -1.388, -1.352, -1.316, -1.28 ]),\n",
       " <a list of 20 Patch objects>)"
      ]
     },
     "execution_count": 8,
     "metadata": {},
     "output_type": "execute_result"
    },
    {
     "data": {
      "image/png": "[encoded data removed]",
      "text/plain": [
       "<Figure size 432x288 with 1 Axes>"
      ]
     },
     "metadata": {
      "needs_background": "light"
     },
     "output_type": "display_data"
    }
   ],
   "source": [
    "plt.hist(E[100]/N,bins=20)     # Try to plot energy distribution of samples given some temperature"
   ]
  },
  {
   "cell_type": "markdown",
   "metadata": {},
   "source": [
    "# Now We have dataset sampled from Boltzmann distribution. State $S[t][i][j]$ and energy $E[t][i]$ where t refer to t-th temperature, i for i-th data, j for j-th lattice site."
   ]
  },
  {
   "cell_type": "markdown",
   "metadata": {},
   "source": [
    "# Data preprocessing"
   ]
  },
  {
   "cell_type": "markdown",
   "metadata": {},
   "source": [
    "Based on theoretical study, the critical temperature of Ising model is $T_{c} = \\frac{2}{ln(1+\\sqrt{2})}\\approx 2.2692􏰔$. We will try to classify states by paramagnetism (T>Tc) and ferromagnetism.(T<Tc)"
   ]
  },
  {
   "cell_type": "code",
   "execution_count": 9,
   "metadata": {},
   "outputs": [
    {
     "data": {
      "text/plain": [
       "2.269185314213022"
      ]
     },
     "execution_count": 9,
     "metadata": {},
     "output_type": "execute_result"
    }
   ],
   "source": [
    "Tc = 2.0/math.log(1.0+2**(1/2.0))\n",
    "Tc"
   ]
  },
  {
   "cell_type": "markdown",
   "metadata": {},
   "source": [
    "Split dataset into two phase categories. To do so, we search for the t point that represent Tc and seperate dataset by it.  "
   ]
  },
  {
   "cell_type": "code",
   "execution_count": 10,
   "metadata": {},
   "outputs": [],
   "source": [
    "x = np.zeros((len(T), nsteps, N))\n",
    "y = np.zeros((len(T), nsteps, 2))\n",
    "for t in range(len(T)):\n",
    "    if T[t] < Tc: \n",
    "            x[t] = x[t] + S[t]\n",
    "            y[t] = y[t] + [1.0, 0.0]\n",
    "    else: \n",
    "            x[t] = x[t] + S[t]\n",
    "            y[t] = y[t] + [0.0, 1.0]"
   ]
  },
  {
   "cell_type": "code",
   "execution_count": null,
   "metadata": {},
   "outputs": [],
   "source": []
  },
  {
   "cell_type": "markdown",
   "metadata": {},
   "source": [
    "Now the input data $x[t][i][j]$ and the label $y[t][i]$ are consistent in t and i index. What we wanna feed into Machine learning is spin configuration $(x_{[t][i]})[j]$ and its label $y_{[t][i]}$. We can unfold the t,i index by numpy.reshape function."
   ]
  },
  {
   "cell_type": "code",
   "execution_count": 11,
   "metadata": {},
   "outputs": [],
   "source": [
    "x_data = np.reshape(x, (len(T)*nsteps, N))\n",
    "y_data = np.reshape(y, (len(T)*nsteps, 2))"
   ]
  },
  {
   "cell_type": "code",
   "execution_count": 12,
   "metadata": {},
   "outputs": [
    {
     "data": {
      "text/plain": [
       "((2000000, 100), (2000000, 2))"
      ]
     },
     "execution_count": 12,
     "metadata": {},
     "output_type": "execute_result"
    }
   ],
   "source": [
    "x_data.shape, y_data.shape"
   ]
  },
  {
   "cell_type": "markdown",
   "metadata": {},
   "source": [
    "Now we've represented our \"raw data\" S by (x_data, y_data). We now separate it into training set (x_data_train, y_data_train) and test set (x_data_test, y_data_test)."
   ]
  },
  {
   "cell_type": "markdown",
   "metadata": {},
   "source": [
    "Before doing so, we need to shuffle our data. Be careful to keep the one-to-one correspondance of x and y unchanged when shuffling. This can be done by combining x, y to form a list of tuple (x, y) and then shuffle this list. The build-in function zip() can do this. (Note: 9,000,000 datas need 2 min to run this code.)"
   ]
  },
  {
   "cell_type": "code",
   "execution_count": 13,
   "metadata": {},
   "outputs": [],
   "source": [
    "c = list(zip(x_data, y_data))\n",
    "random.shuffle(c)"
   ]
  },
  {
   "cell_type": "code",
   "execution_count": 16,
   "metadata": {},
   "outputs": [
    {
     "data": {
      "text/plain": [
       "6000000"
      ]
     },
     "execution_count": 16,
     "metadata": {},
     "output_type": "execute_result"
    }
   ],
   "source": [
    "len(c)"
   ]
  },
  {
   "cell_type": "markdown",
   "metadata": {},
   "source": [
    "Now we have c, the full data (x,y) randomly shuffled. "
   ]
  },
  {
   "cell_type": "markdown",
   "metadata": {},
   "source": [
    "Now we pick a portion of dataset (x,y) since we don't need so huge dataset for training Ising model. "
   ]
  },
  {
   "cell_type": "code",
   "execution_count": 14,
   "metadata": {},
   "outputs": [],
   "source": [
    "data_portion = int(len(c)/500)\n",
    "x_picked = np.zeros((data_portion, N))\n",
    "y_picked = np.zeros((data_portion, 2))\n",
    "for i in range(data_portion):\n",
    "    x_picked[i] = c[i][0]\n",
    "    y_picked[i] = c[i][1]"
   ]
  },
  {
   "cell_type": "markdown",
   "metadata": {},
   "source": [
    "# Load the data to a csv file"
   ]
  },
  {
   "cell_type": "code",
   "execution_count": 177,
   "metadata": {},
   "outputs": [],
   "source": [
    "x_y_comined = np.array(list(zip(x_picked, y_picked)))"
   ]
  },
  {
   "cell_type": "code",
   "execution_count": 181,
   "metadata": {
    "collapsed": true
   },
   "outputs": [
    {
     "ename": "TypeError",
     "evalue": "Mismatch between array dtype ('object') and format specifier ('%.18e,%.18e')",
     "output_type": "error",
     "traceback": [
      "\u001b[0;31m---------------------------------------------------------------------------\u001b[0m",
      "\u001b[0;31mTypeError\u001b[0m                                 Traceback (most recent call last)",
      "\u001b[0;32m~/miniconda3/lib/python3.7/site-packages/numpy/lib/npyio.py\u001b[0m in \u001b[0;36msavetxt\u001b[0;34m(fname, X, fmt, delimiter, newline, header, footer, comments, encoding)\u001b[0m\n\u001b[1;32m   1421\u001b[0m                 \u001b[0;32mtry\u001b[0m\u001b[0;34m:\u001b[0m\u001b[0;34m\u001b[0m\u001b[0;34m\u001b[0m\u001b[0m\n\u001b[0;32m-> 1422\u001b[0;31m                     \u001b[0mv\u001b[0m \u001b[0;34m=\u001b[0m \u001b[0mformat\u001b[0m \u001b[0;34m%\u001b[0m \u001b[0mtuple\u001b[0m\u001b[0;34m(\u001b[0m\u001b[0mrow\u001b[0m\u001b[0;34m)\u001b[0m \u001b[0;34m+\u001b[0m \u001b[0mnewline\u001b[0m\u001b[0;34m\u001b[0m\u001b[0;34m\u001b[0m\u001b[0m\n\u001b[0m\u001b[1;32m   1423\u001b[0m                 \u001b[0;32mexcept\u001b[0m \u001b[0mTypeError\u001b[0m\u001b[0;34m:\u001b[0m\u001b[0;34m\u001b[0m\u001b[0;34m\u001b[0m\u001b[0m\n",
      "\u001b[0;31mTypeError\u001b[0m: only size-1 arrays can be converted to Python scalars",
      "\nDuring handling of the above exception, another exception occurred:\n",
      "\u001b[0;31mTypeError\u001b[0m                                 Traceback (most recent call last)",
      "\u001b[0;32m<ipython-input-181-e6bbf8243851>\u001b[0m in \u001b[0;36m<module>\u001b[0;34m\u001b[0m\n\u001b[0;32m----> 1\u001b[0;31m \u001b[0mnp\u001b[0m\u001b[0;34m.\u001b[0m\u001b[0msavetxt\u001b[0m\u001b[0;34m(\u001b[0m\u001b[0;34m\"ising.csv\"\u001b[0m\u001b[0;34m,\u001b[0m\u001b[0mx_y_comined\u001b[0m \u001b[0;34m,\u001b[0m \u001b[0mdelimiter\u001b[0m\u001b[0;34m=\u001b[0m\u001b[0;34m','\u001b[0m\u001b[0;34m,\u001b[0m \u001b[0mheader\u001b[0m\u001b[0;34m=\u001b[0m\u001b[0;34m\"state,phase\"\u001b[0m\u001b[0;34m,\u001b[0m \u001b[0mcomments\u001b[0m\u001b[0;34m=\u001b[0m\u001b[0;34m\"\"\u001b[0m\u001b[0;34m)\u001b[0m\u001b[0;34m\u001b[0m\u001b[0;34m\u001b[0m\u001b[0m\n\u001b[0m",
      "\u001b[0;32m~/miniconda3/lib/python3.7/site-packages/numpy/lib/npyio.py\u001b[0m in \u001b[0;36msavetxt\u001b[0;34m(fname, X, fmt, delimiter, newline, header, footer, comments, encoding)\u001b[0m\n\u001b[1;32m   1424\u001b[0m                     raise TypeError(\"Mismatch between array dtype ('%s') and \"\n\u001b[1;32m   1425\u001b[0m                                     \u001b[0;34m\"format specifier ('%s')\"\u001b[0m\u001b[0;34m\u001b[0m\u001b[0;34m\u001b[0m\u001b[0m\n\u001b[0;32m-> 1426\u001b[0;31m                                     % (str(X.dtype), format))\n\u001b[0m\u001b[1;32m   1427\u001b[0m                 \u001b[0mfh\u001b[0m\u001b[0;34m.\u001b[0m\u001b[0mwrite\u001b[0m\u001b[0;34m(\u001b[0m\u001b[0mv\u001b[0m\u001b[0;34m)\u001b[0m\u001b[0;34m\u001b[0m\u001b[0;34m\u001b[0m\u001b[0m\n\u001b[1;32m   1428\u001b[0m \u001b[0;34m\u001b[0m\u001b[0m\n",
      "\u001b[0;31mTypeError\u001b[0m: Mismatch between array dtype ('object') and format specifier ('%.18e,%.18e')"
     ]
    }
   ],
   "source": [
    "np.savetxt(\"ising.csv\",x_y_comined , delimiter=',', header=\"state,phase\", comments=\"\")"
   ]
  },
  {
   "cell_type": "markdown",
   "metadata": {},
   "source": [
    "# Split data into train and test set."
   ]
  },
  {
   "cell_type": "code",
   "execution_count": 15,
   "metadata": {},
   "outputs": [],
   "source": [
    "from sklearn.model_selection import train_test_split"
   ]
  },
  {
   "cell_type": "code",
   "execution_count": 16,
   "metadata": {},
   "outputs": [],
   "source": [
    "x_train, x_test, y_train, y_test = train_test_split(x_picked, y_picked, test_size=0.20, random_state=42)"
   ]
  },
  {
   "cell_type": "code",
   "execution_count": 17,
   "metadata": {},
   "outputs": [
    {
     "data": {
      "text/plain": [
       "((3200, 100), (800, 100), (3200, 2), (800, 2))"
      ]
     },
     "execution_count": 17,
     "metadata": {},
     "output_type": "execute_result"
    }
   ],
   "source": [
    "x_train.shape, x_test.shape, y_train.shape, y_test.shape"
   ]
  },
  {
   "cell_type": "markdown",
   "metadata": {},
   "source": [
    "For later use, we transpose the data x and y. (Since in training, we'll do Wx+b where component of data are summed. Thus component index should be moved ahead.)"
   ]
  },
  {
   "cell_type": "code",
   "execution_count": 18,
   "metadata": {},
   "outputs": [],
   "source": [
    "x_train = x_train.T\n",
    "x_test = x_test.T\n",
    "y_train = y_train.T\n",
    "y_test = y_test.T"
   ]
  },
  {
   "cell_type": "code",
   "execution_count": 19,
   "metadata": {},
   "outputs": [
    {
     "data": {
      "text/plain": [
       "((100, 3200), (100, 800), (2, 3200), (2, 800))"
      ]
     },
     "execution_count": 19,
     "metadata": {},
     "output_type": "execute_result"
    }
   ],
   "source": [
    "x_train.shape, x_test.shape, y_train.shape, y_test.shape"
   ]
  },
  {
   "cell_type": "markdown",
   "metadata": {},
   "source": [
    "# DNN From scratch"
   ]
  },
  {
   "cell_type": "markdown",
   "metadata": {},
   "source": [
    "The archetecture of NN is $a^{(\\ell)} = g(z^{(\\ell)}) = g(w^{(\\ell)}a^{(\\ell-1)}+b^{(\\ell)})$, where $g= \\frac{1}{1+e^{-z}}$ is logistic function. Note that $\\ell= 1,2,...,L$. $w^{(\\ell)}$ and $b^{(\\ell)}$ are weight and bias of $\\ell$-th layer. $a^{(0)}$ is just input data x and $a^{(L)}$ is just predicted label."
   ]
  },
  {
   "cell_type": "markdown",
   "metadata": {},
   "source": [
    "To build NN by hand , we have to build some helper functions "
   ]
  },
  {
   "cell_type": "markdown",
   "metadata": {},
   "source": [
    "First, define the parameter initilizer which can generate initialization of parameters of any NN depth.\n",
    "We input dimension of every layer(a list), it output the initialized parameters (a dictionary)."
   ]
  },
  {
   "cell_type": "code",
   "execution_count": 20,
   "metadata": {},
   "outputs": [],
   "source": [
    "def initialize_nn_parameters(layer_dims):\n",
    "    parameters = {}\n",
    "    L = len(layer_dims)                     # number of layers in the network\n",
    "    for l in range(1, L):\n",
    "        parameters['W' + str(l)] = np.random.randn(layer_dims[l], layer_dims[l-1])*0.01\n",
    "        parameters['b' + str(l)] = np.zeros((layer_dims[l], 1))\n",
    "    \n",
    "    return parameters\n",
    "\n",
    "def activation_list(ActList):           # If input is (3,1), output will be ['relu', 'relu', 'relu', 'sigmoid']\n",
    "    act_list = []\n",
    "    a = ActList[0]\n",
    "    b = ActList[1]\n",
    "    for l in range(1, a+b+1):\n",
    "        if l <= a:\n",
    "            act_list += ['relu']\n",
    "        else:\n",
    "            act_list += ['sigmoid']\n",
    "    return act_list                       # If NN has L layers, this act_list will be indexed from [0] to [L-1]\n",
    "\n",
    "\n",
    "def sigmoid(Z):\n",
    "    A = 1.0/(1+math.e**(-Z))\n",
    "    return A\n",
    "\n",
    "def sigmoid_backward(dA, A):\n",
    "    dZ = dA*A*(1-A)\n",
    "    return dZ"
   ]
  },
  {
   "cell_type": "code",
   "execution_count": null,
   "metadata": {},
   "outputs": [],
   "source": []
  },
  {
   "cell_type": "markdown",
   "metadata": {},
   "source": [
    "Second, to build the whole feed-forward function. We consider the process $a^{(\\ell)} = g(w^{(\\ell)}a^{(\\ell-1)}+b^{(\\ell)})$ for $\\ell$-th layer and stack such layer from $\\ell=0$ to $\\ell=L$ together to form the whole feed-forward function."
   ]
  },
  {
   "cell_type": "code",
   "execution_count": 21,
   "metadata": {},
   "outputs": [],
   "source": [
    "# l-th layer forward propagation \n",
    "# Input W is (n_l, n_l-1), A_prev is (n_l-1, m), b is (n_l, 1)  ;   PS. m is number of datas\n",
    "# Output Z is (n_l, m)\n",
    " \n",
    "\n",
    "# Input X is (N, m) where N is # of components of data, m is # of datas\n",
    "def forward_one(A_prev, W, b, activation):\n",
    "    Z = np.dot(W, A_prev) + b\n",
    "    if activation == \"sigmoid\":            # Note that we haven't applied other activation function\n",
    "        A = sigmoid(Z)\n",
    "        cache = (A, Z, A_prev, W, b)       # Use a tuple to store A,W,b at this layer for later use in GD.\n",
    "    return A, cache\n",
    "\n",
    "# Input X is (N, m) where N is # of components of data, m is # of datas\n",
    "def forward_L(X, parameters, activation):\n",
    "    caches = []\n",
    "    A = X\n",
    "    L = len(parameters) // 2           # number of layers in the neural network\n",
    "    \n",
    "    # Implement [forward_one]*(L-1). Add \"cache\" to the \"caches\" list.\n",
    "    for l in range(1, L):\n",
    "        A_prev = A \n",
    "        A, cache = forward_one(A_prev, parameters[\"W\"+str(l)] , parameters[\"b\"+str(l)] , activation )\n",
    "        caches.append(list(cache))\n",
    "    AL, cache = forward_one(A, parameters[\"W\"+str(L)] , parameters[\"b\"+str(L)] , activation)\n",
    "    caches.append(list(cache))   \n",
    "    # Worth to remind : caches[l] = [A, Z, A_prev, W, b]  for l=0~L\n",
    "    return AL, caches"
   ]
  },
  {
   "cell_type": "markdown",
   "metadata": {},
   "source": [
    "We have built full forward propagation. Then we define a cost function for this output."
   ]
  },
  {
   "cell_type": "code",
   "execution_count": 22,
   "metadata": {},
   "outputs": [],
   "source": [
    "def compute_cost(AL, Y, cost_function):\n",
    "    if cost_function == \"cross_entropy\":            # Note that we haven't applied other kind of cost function\n",
    "        cost = -1/(Y.shape[1])*np.sum(Y*np.log(AL)+(1-Y)*np.log(1-AL))\n",
    "        \n",
    "    cost = np.squeeze(cost)\n",
    "    return cost"
   ]
  },
  {
   "cell_type": "markdown",
   "metadata": {},
   "source": [
    "After complete the NN architecture, we now build the training process which is called backward propagation in NN. "
   ]
  },
  {
   "cell_type": "markdown",
   "metadata": {},
   "source": [
    "First, the same as forward prop., we deal with l-th layer backward prop. and then stack such layer from $\\ell=0$ to $\\ell=L$ together to form the whole feed-forward function."
   ]
  },
  {
   "cell_type": "code",
   "execution_count": 23,
   "metadata": {},
   "outputs": [],
   "source": [
    "# In back prop. we will make use of cache in forward prop.\n",
    "\n",
    "def backward_one(dA, cache, activation):\n",
    "    A, Z, A_prev, W, b = cache\n",
    "    m = A_prev.shape[1]\n",
    "    if activation == \"sigmoid\":           # Note that we haven't included other activation function\n",
    "        dZ = sigmoid_backward(dA, A)\n",
    "        dW = 1/m*np.dot(dZ,A_prev.T)\n",
    "        db = 1/m*np.sum(dZ,axis=1,keepdims=True)\n",
    "        dA_prev = np.dot(W.T,dZ)\n",
    "        \n",
    "    return dA_prev, dW, db     \n",
    "\n",
    "def backward_L(AL, Y, caches, activation):\n",
    "    grads = {}\n",
    "    L = len(caches) # the number of layers\n",
    "    m = AL.shape[1]\n",
    "    Y = Y.reshape(AL.shape) # after this line, Y is the same shape as AL\n",
    "    # To start back prop., we need to compute dAL by hand\n",
    "    dAL = - (np.divide(Y, AL) - np.divide(1 - Y, 1 - AL))         # This is the case for the cross entrypy\n",
    "    \n",
    "    # Lth layer backward_one gradients. \n",
    "    #Inputs: \"dAL, current_cache\". Outputs: \"grads[\"dAL-1\"], grads[\"dWL\"], grads[\"dbL\"]\n",
    "    current_cache = caches[L-1]\n",
    "    grads[\"dA\" + str(L-1)], grads[\"dW\" + str(L)], grads[\"db\" + str(L)] = backward_one(dAL, current_cache , activation)\n",
    "    # Implement [backward_one]*(L-1)\n",
    "    for l in reversed(range(L-1)):\n",
    "        #l-th layer\n",
    "        current_cache = caches[l]\n",
    "        dA_prev_temp, dW_temp, db_temp = backward_one(grads[\"dA\" + str(l+1)], current_cache , activation)\n",
    "        grads[\"dA\" + str(l)] = dA_prev_temp\n",
    "        grads[\"dW\" + str(l + 1)] = dW_temp\n",
    "        grads[\"db\" + str(l + 1)] = db_temp\n",
    "        \n",
    "        return grads"
   ]
  },
  {
   "cell_type": "markdown",
   "metadata": {},
   "source": [
    "Second, we update the weight and bias by this grads. $W^{[\\ell]}=W^{[\\ell]} - \\lambda dW^{[\\ell]}$ and $b^{[\\ell]}=b^{[\\ell]} - \\lambda db^{[\\ell]}$"
   ]
  },
  {
   "cell_type": "code",
   "execution_count": 24,
   "metadata": {},
   "outputs": [],
   "source": [
    "def update_parameters(parameters, grads, learning_rate):\n",
    "    L = len(parameters) // 2 \n",
    "    for l in range(L):\n",
    "        parameters[\"W\" + str(l+1)] = parameters[\"W\" + str(l+1)] - learning_rate*grads[\"dW\" + str(l+1)]\n",
    "        parameters[\"b\" + str(l+1)] = parameters[\"b\" + str(l+1)] - learning_rate*grads[\"db\" + str(l+1)]\n",
    "    return parameters    "
   ]
  },
  {
   "cell_type": "markdown",
   "metadata": {},
   "source": [
    "# Finally, build the training model composed of these helper funtions, which looks like this following sequence"
   ]
  },
  {
   "cell_type": "markdown",
   "metadata": {},
   "source": [
    "(1) initialize_nn_parameters(layer_dims) $\\Longrightarrow$ parameters={W,b}"
   ]
  },
  {
   "cell_type": "markdown",
   "metadata": {},
   "source": [
    "(2) forward_L(x_train, parameters, activation) $\\Longrightarrow$ AL, caches={A, Z, A_prev, W, b}"
   ]
  },
  {
   "cell_type": "markdown",
   "metadata": {},
   "source": [
    "(3) compute_cost(AL, y_train, cost_function) $\\Longrightarrow$ cost   "
   ]
  },
  {
   "cell_type": "markdown",
   "metadata": {},
   "source": [
    "(4) backward_L(AL, y-train, caches, activation) $\\Longrightarrow$ grads={dA, dW, db}"
   ]
  },
  {
   "cell_type": "markdown",
   "metadata": {},
   "source": [
    "(5) update_parameters(parameters, grads, learning_rate) $\\Longrightarrow$ parameters={W,b}"
   ]
  },
  {
   "cell_type": "markdown",
   "metadata": {},
   "source": [
    "# Start training"
   ]
  },
  {
   "cell_type": "markdown",
   "metadata": {},
   "source": [
    "Try two layer NN, we set up some \"hyper-parameters\" of training"
   ]
  },
  {
   "cell_type": "code",
   "execution_count": 40,
   "metadata": {},
   "outputs": [],
   "source": [
    "costs = []                              # To record the cost over epoches for later graph plot\n",
    "m = x_train.shape[1]                    # Number of examples\n",
    "epoches = 3000\n",
    "learning_rate = 0.01\n",
    "layers_dims = (N, 100, 2)               # NN structure"
   ]
  },
  {
   "cell_type": "markdown",
   "metadata": {},
   "source": [
    "Start training"
   ]
  },
  {
   "cell_type": "code",
   "execution_count": 41,
   "metadata": {},
   "outputs": [
    {
     "name": "stdout",
     "output_type": "stream",
     "text": [
      "Cost after iteration 0: 1.385068\n",
      "Cost after iteration 100: 1.301457\n",
      "Cost after iteration 200: 1.265188\n",
      "Cost after iteration 300: 1.188611\n",
      "Cost after iteration 400: 1.061132\n",
      "Cost after iteration 500: 0.928360\n",
      "Cost after iteration 600: 0.836884\n",
      "Cost after iteration 700: 0.783480\n",
      "Cost after iteration 800: 0.751952\n",
      "Cost after iteration 900: 0.732022\n",
      "Cost after iteration 1000: 0.718457\n",
      "Cost after iteration 1100: 0.708595\n",
      "Cost after iteration 1200: 0.701019\n",
      "Cost after iteration 1300: 0.694930\n",
      "Cost after iteration 1400: 0.689856\n",
      "Cost after iteration 1500: 0.685505\n",
      "Cost after iteration 1600: 0.681691\n",
      "Cost after iteration 1700: 0.678287\n",
      "Cost after iteration 1800: 0.675209\n",
      "Cost after iteration 1900: 0.672395\n",
      "Cost after iteration 2000: 0.669802\n",
      "Cost after iteration 2100: 0.667397\n",
      "Cost after iteration 2200: 0.665153\n",
      "Cost after iteration 2300: 0.663050\n",
      "Cost after iteration 2400: 0.661073\n",
      "Cost after iteration 2500: 0.659208\n",
      "Cost after iteration 2600: 0.657444\n",
      "Cost after iteration 2700: 0.655772\n",
      "Cost after iteration 2800: 0.654182\n",
      "Cost after iteration 2900: 0.652669\n"
     ]
    }
   ],
   "source": [
    "parameters = initialize_nn_parameters(layers_dims)\n",
    "\n",
    "for epo in range(0, epoches):\n",
    "    \n",
    "    AL, caches = forward_L(x_train, parameters, activation = \"sigmoid\")  \n",
    "    cost = compute_cost(AL, y_train, cost_function = \"cross_entropy\")\n",
    "    grads = backward_L(AL, y_train, caches, activation = \"sigmoid\")\n",
    "    parameters = update_parameters(parameters, grads, learning_rate)\n",
    "    \n",
    "    if epo % 100 == 0:\n",
    "        print (\"Cost after iteration %i: %f\" %(epo, cost))\n",
    "        costs.append(cost)"
   ]
  },
  {
   "cell_type": "markdown",
   "metadata": {},
   "source": [
    "The learned parameters is"
   ]
  },
  {
   "cell_type": "code",
   "execution_count": 145,
   "metadata": {
    "collapsed": true
   },
   "outputs": [
    {
     "data": {
      "text/plain": [
       "{'W1': array([[ 0.02044446,  0.01796545,  0.01516966, ...,  0.02378165,\n",
       "          0.02454109,  0.01318137],\n",
       "        [-0.02189228, -0.02683816, -0.00974925, ...,  0.00039355,\n",
       "         -0.01443828, -0.01425024],\n",
       "        [ 0.03857717, -0.00103028,  0.02394997, ...,  0.02318799,\n",
       "          0.00796808,  0.01360305],\n",
       "        ...,\n",
       "        [ 0.01276818,  0.02111742,  0.01019426, ...,  0.02548053,\n",
       "          0.01497349,  0.01950911],\n",
       "        [-0.00880322,  0.00663747, -0.0151539 , ..., -0.01769319,\n",
       "         -0.02226783,  0.00547144],\n",
       "        [-0.02230102, -0.01729107, -0.01239316, ..., -0.01885681,\n",
       "         -0.0179742 , -0.01369526]]), 'b1': array([[ 0.02425434],\n",
       "        [-0.01087423],\n",
       "        [ 0.03731874],\n",
       "        [ 0.02289231],\n",
       "        [ 0.02482015],\n",
       "        [ 0.03143008],\n",
       "        [ 0.00039957],\n",
       "        [-0.00630764],\n",
       "        [ 0.00562742],\n",
       "        [ 0.00048941],\n",
       "        [-0.0408732 ],\n",
       "        [-0.00225806],\n",
       "        [-0.01359794],\n",
       "        [ 0.00927689],\n",
       "        [ 0.00930707],\n",
       "        [-0.0197466 ],\n",
       "        [-0.01769774],\n",
       "        [ 0.02688008],\n",
       "        [-0.01795685],\n",
       "        [ 0.00445516],\n",
       "        [-0.00425275],\n",
       "        [ 0.03417275],\n",
       "        [-0.00786755],\n",
       "        [ 0.01872476],\n",
       "        [-0.01188656],\n",
       "        [-0.00050204],\n",
       "        [ 0.00494382],\n",
       "        [ 0.00136401],\n",
       "        [-0.00641691],\n",
       "        [ 0.00249013],\n",
       "        [-0.00563056],\n",
       "        [ 0.02170566],\n",
       "        [-0.02026663],\n",
       "        [-0.01565065],\n",
       "        [ 0.01448496],\n",
       "        [-0.00356057],\n",
       "        [ 0.0192881 ],\n",
       "        [ 0.00124824],\n",
       "        [ 0.0433508 ],\n",
       "        [-0.01056251],\n",
       "        [ 0.00993875],\n",
       "        [-0.00453185],\n",
       "        [ 0.02671229],\n",
       "        [ 0.00214854],\n",
       "        [ 0.01115064],\n",
       "        [ 0.00667744],\n",
       "        [ 0.03443778],\n",
       "        [-0.02057814],\n",
       "        [ 0.00413282],\n",
       "        [-0.02050891],\n",
       "        [ 0.00995825],\n",
       "        [-0.01182188],\n",
       "        [-0.04692058],\n",
       "        [ 0.00666147],\n",
       "        [ 0.00434907],\n",
       "        [-0.0172345 ],\n",
       "        [ 0.00802202],\n",
       "        [-0.03052363],\n",
       "        [ 0.0052849 ],\n",
       "        [ 0.03862686],\n",
       "        [ 0.00127087],\n",
       "        [-0.0411396 ],\n",
       "        [-0.02954294],\n",
       "        [ 0.04296183],\n",
       "        [ 0.00182568],\n",
       "        [ 0.00099148],\n",
       "        [ 0.03556682],\n",
       "        [-0.012588  ],\n",
       "        [ 0.01338303],\n",
       "        [ 0.01600157],\n",
       "        [ 0.00158722],\n",
       "        [-0.01124512],\n",
       "        [-0.00027505],\n",
       "        [-0.0379886 ],\n",
       "        [-0.0344107 ],\n",
       "        [ 0.01106545],\n",
       "        [-0.00184348],\n",
       "        [-0.0122713 ],\n",
       "        [ 0.01044742],\n",
       "        [ 0.0035983 ],\n",
       "        [ 0.00875275],\n",
       "        [ 0.02052666],\n",
       "        [-0.00896546],\n",
       "        [ 0.00623359],\n",
       "        [ 0.02607884],\n",
       "        [-0.00703131],\n",
       "        [ 0.044636  ],\n",
       "        [-0.00991517],\n",
       "        [-0.01585096],\n",
       "        [-0.0536068 ],\n",
       "        [-0.02880001],\n",
       "        [-0.01003677],\n",
       "        [-0.02464994],\n",
       "        [-0.02778772],\n",
       "        [-0.00523593],\n",
       "        [ 0.02886696],\n",
       "        [-0.02425172],\n",
       "        [ 0.00911613],\n",
       "        [-0.00413221],\n",
       "        [-0.02818944]]), 'W2': array([[-0.21402476,  0.09427108, -0.25798495, -0.22073684, -0.21480824,\n",
       "         -0.23544981, -0.02619629,  0.05632959, -0.10539867, -0.0541279 ,\n",
       "          0.18704663,  0.03611965,  0.0926049 , -0.14063887, -0.1359112 ,\n",
       "          0.12646273,  0.11297513, -0.22517848,  0.11163764, -0.0889411 ,\n",
       "          0.03756767, -0.25361129,  0.06329368, -0.17938908,  0.0814776 ,\n",
       "         -0.004067  , -0.102062  , -0.05954501,  0.06071191, -0.07917434,\n",
       "          0.05853008, -0.19565391,  0.1277645 ,  0.10147526, -0.18654291,\n",
       "          0.03725196, -0.19391112, -0.05165538, -0.2663517 ,  0.08969266,\n",
       "         -0.14243265,  0.04056462, -0.22320208, -0.06933335, -0.15005823,\n",
       "         -0.12112963, -0.25279358,  0.13163231, -0.1026787 ,  0.13086202,\n",
       "         -0.1480327 ,  0.09132703,  0.21272895, -0.11855183, -0.10978883,\n",
       "          0.10194522, -0.13212441,  0.16005895, -0.11237845, -0.26403803,\n",
       "         -0.04445859,  0.17935895,  0.16281079, -0.28071963, -0.06240646,\n",
       "         -0.04070977, -0.26189254,  0.08040375, -0.16784343, -0.169367  ,\n",
       "         -0.04868175,  0.09127124, -0.0039821 ,  0.18322341,  0.17564804,\n",
       "         -0.14624047,  0.02453357,  0.09671326, -0.14898592, -0.09113315,\n",
       "         -0.1385779 , -0.20105437,  0.07980798, -0.12204156, -0.21787206,\n",
       "          0.06570848, -0.2886618 ,  0.08585996,  0.10909286,  0.22864219,\n",
       "          0.15961597,  0.07675672,  0.14738945,  0.15787969,  0.05233294,\n",
       "         -0.22539348,  0.15164491, -0.13825035,  0.03346188,  0.15485571],\n",
       "        [ 0.20972699, -0.07663717,  0.26010058,  0.1929035 ,  0.21519435,\n",
       "          0.24251728,  0.03202547, -0.06199324,  0.12152226,  0.00785701,\n",
       "         -0.20066281, -0.01068116, -0.10446504,  0.13922112,  0.14537492,\n",
       "         -0.12026183, -0.11920587,  0.21785912, -0.12105041,  0.11480037,\n",
       "         -0.05028227,  0.24444343, -0.0743358 ,  0.19967006, -0.09944558,\n",
       "          0.00441377,  0.11355232,  0.05168131, -0.05797238,  0.07576007,\n",
       "         -0.04916959,  0.20706514, -0.12335908, -0.11279261,  0.15303014,\n",
       "         -0.03726409,  0.18933008,  0.05429073,  0.29355285, -0.0758952 ,\n",
       "          0.14564008, -0.05173609,  0.21860979,  0.07387494,  0.15339047,\n",
       "          0.12320457,  0.24856566, -0.12255423,  0.09401638, -0.1219486 ,\n",
       "          0.13973673, -0.08765339, -0.21273149,  0.12527526,  0.09291247,\n",
       "         -0.12508306,  0.13169477, -0.16156418,  0.10781161,  0.26409507,\n",
       "          0.06171251, -0.21268512, -0.15500012,  0.27511365,  0.06862446,\n",
       "          0.05092138,  0.24450198, -0.10708535,  0.15903231,  0.18395479,\n",
       "          0.07396995, -0.08300059,  0.01614071, -0.18720412, -0.17358723,\n",
       "          0.15421863, -0.0117196 , -0.08696077,  0.14556604,  0.09384982,\n",
       "          0.13534803,  0.1931085 , -0.06904095,  0.11490132,  0.21928712,\n",
       "         -0.06133417,  0.27932678, -0.07362217, -0.10659441, -0.23495434,\n",
       "         -0.15274716, -0.08450736, -0.13416598, -0.14764561, -0.05124589,\n",
       "          0.23496923, -0.12992378,  0.13964144, -0.05150042, -0.15214468]]), 'b2': array([[-0.16108285],\n",
       "        [ 0.15753346]])}"
      ]
     },
     "execution_count": 145,
     "metadata": {},
     "output_type": "execute_result"
    }
   ],
   "source": [
    "parameters"
   ]
  },
  {
   "cell_type": "markdown",
   "metadata": {},
   "source": [
    "And we can plot the learning progress through plotting cost over epoches"
   ]
  },
  {
   "cell_type": "code",
   "execution_count": 42,
   "metadata": {},
   "outputs": [
    {
     "data": {
      "image/png": "[encoded data removed]",
      "text/plain": [
       "<Figure size 432x288 with 1 Axes>"
      ]
     },
     "metadata": {
      "needs_background": "light"
     },
     "output_type": "display_data"
    }
   ],
   "source": [
    "plt.plot(np.squeeze(costs))\n",
    "plt.ylabel('cost')\n",
    "plt.xlabel('iterations (per tens)')\n",
    "plt.title(\"Learning rate =\" + str(learning_rate))\n",
    "plt.show()"
   ]
  },
  {
   "cell_type": "markdown",
   "metadata": {},
   "source": [
    "Test the predictibiliy of the trained model."
   ]
  },
  {
   "cell_type": "code",
   "execution_count": 43,
   "metadata": {},
   "outputs": [],
   "source": [
    "AL, caches = forward_L(x_test, parameters, activation = \"sigmoid\")   # Input test set to get the prediction output AL"
   ]
  },
  {
   "cell_type": "code",
   "execution_count": 44,
   "metadata": {},
   "outputs": [],
   "source": [
    "error = (np.round(AL)-y_test).T        # Get the error matrix by subtracting the rounded AL by y_test"
   ]
  },
  {
   "cell_type": "code",
   "execution_count": 45,
   "metadata": {},
   "outputs": [
    {
     "name": "stdout",
     "output_type": "stream",
     "text": [
      "Number of prediction error is: 94\n",
      "Accuracy of model is: 0.8825000000000001\n"
     ]
    }
   ],
   "source": [
    "er_count = 0\n",
    "for i in range(len(error)):\n",
    "    if error[i][1] != 0.0:\n",
    "        er_count += 1\n",
    "print(\"Number of prediction error is:\", er_count)\n",
    "print(\"Accuracy of model is:\", 1.0 - float(er_count)/float(len(error)))"
   ]
  },
  {
   "cell_type": "markdown",
   "metadata": {},
   "source": [
    "# By TensorFlow"
   ]
  },
  {
   "cell_type": "markdown",
   "metadata": {},
   "source": [
    "In TensorFlow we need to create variables for the parameters and placeholders for the dataset."
   ]
  },
  {
   "cell_type": "code",
   "execution_count": null,
   "metadata": {},
   "outputs": [],
   "source": []
  },
  {
   "cell_type": "markdown",
   "metadata": {},
   "source": [
    "Create placeholders"
   ]
  },
  {
   "cell_type": "code",
   "execution_count": 32,
   "metadata": {},
   "outputs": [],
   "source": [
    "X = tf.placeholder(tf.float32,shape=(None, N),name='X')             # None takes care of number of datas\n",
    "Y = tf.placeholder(tf.float32,shape=(None, 2),name='Y')"
   ]
  },
  {
   "cell_type": "markdown",
   "metadata": {},
   "source": [
    "Create variables"
   ]
  },
  {
   "cell_type": "code",
   "execution_count": 33,
   "metadata": {},
   "outputs": [
    {
     "name": "stdout",
     "output_type": "stream",
     "text": [
      "WARNING:tensorflow:From /anaconda3/lib/python3.7/site-packages/tensorflow/python/framework/op_def_library.py:263: colocate_with (from tensorflow.python.framework.ops) is deprecated and will be removed in a future version.\n",
      "Instructions for updating:\n",
      "Colocations handled automatically by placer.\n"
     ]
    }
   ],
   "source": [
    "W1 = tf.get_variable(\"W1\", [N,100] )\n",
    "W2 = tf.get_variable(\"W2\", [100,2] )\n",
    "b1 = tf.get_variable(\"b1\", [1,100] )\n",
    "b2 = tf.get_variable(\"b2\", [1,2] )"
   ]
  },
  {
   "cell_type": "markdown",
   "metadata": {},
   "source": [
    "Forward propagation"
   ]
  },
  {
   "cell_type": "code",
   "execution_count": 34,
   "metadata": {},
   "outputs": [],
   "source": [
    "Z1 = tf.add(tf.matmul(X, W1),b1)\n",
    "A1 = tf.nn.relu(Z1)\n",
    "Z2 = tf.add(tf.matmul(A1, W2),b2)"
   ]
  },
  {
   "cell_type": "markdown",
   "metadata": {},
   "source": [
    "Cost function"
   ]
  },
  {
   "cell_type": "code",
   "execution_count": 35,
   "metadata": {},
   "outputs": [
    {
     "name": "stdout",
     "output_type": "stream",
     "text": [
      "WARNING:tensorflow:From <ipython-input-35-a39b2cea3221>:1: softmax_cross_entropy_with_logits (from tensorflow.python.ops.nn_ops) is deprecated and will be removed in a future version.\n",
      "Instructions for updating:\n",
      "\n",
      "Future major versions of TensorFlow will allow gradients to flow\n",
      "into the labels input on backprop by default.\n",
      "\n",
      "See `tf.nn.softmax_cross_entropy_with_logits_v2`.\n",
      "\n"
     ]
    }
   ],
   "source": [
    "cost = tf.reduce_mean(tf.nn.softmax_cross_entropy_with_logits(logits = Z2, labels = Y))"
   ]
  },
  {
   "cell_type": "markdown",
   "metadata": {},
   "source": [
    "Training lgorithm"
   ]
  },
  {
   "cell_type": "code",
   "execution_count": 36,
   "metadata": {},
   "outputs": [],
   "source": [
    "optimizer = tf.train.GradientDescentOptimizer(learning_rate = 0.005).minimize(cost)"
   ]
  },
  {
   "cell_type": "markdown",
   "metadata": {},
   "source": [
    "Start training"
   ]
  },
  {
   "cell_type": "code",
   "execution_count": 37,
   "metadata": {},
   "outputs": [],
   "source": [
    "init = tf.global_variables_initializer()"
   ]
  },
  {
   "cell_type": "code",
   "execution_count": 1,
   "metadata": {},
   "outputs": [
    {
     "ename": "NameError",
     "evalue": "name 'x_train' is not defined",
     "output_type": "error",
     "traceback": [
      "\u001b[0;31m---------------------------------------------------------------------------\u001b[0m",
      "\u001b[0;31mNameError\u001b[0m                                 Traceback (most recent call last)",
      "\u001b[0;32m<ipython-input-1-07a100d7b524>\u001b[0m in \u001b[0;36m<module>\u001b[0;34m\u001b[0m\n\u001b[0;32m----> 1\u001b[0;31m \u001b[0mx_train\u001b[0m \u001b[0;34m=\u001b[0m \u001b[0mx_train\u001b[0m\u001b[0;34m.\u001b[0m\u001b[0mT\u001b[0m\u001b[0;34m\u001b[0m\u001b[0;34m\u001b[0m\u001b[0m\n\u001b[0m\u001b[1;32m      2\u001b[0m \u001b[0mx_test\u001b[0m \u001b[0;34m=\u001b[0m \u001b[0mx_test\u001b[0m\u001b[0;34m.\u001b[0m\u001b[0mT\u001b[0m\u001b[0;34m\u001b[0m\u001b[0;34m\u001b[0m\u001b[0m\n\u001b[1;32m      3\u001b[0m \u001b[0my_train\u001b[0m \u001b[0;34m=\u001b[0m \u001b[0my_train\u001b[0m\u001b[0;34m.\u001b[0m\u001b[0mT\u001b[0m\u001b[0;34m\u001b[0m\u001b[0;34m\u001b[0m\u001b[0m\n\u001b[1;32m      4\u001b[0m \u001b[0my_test\u001b[0m \u001b[0;34m=\u001b[0m \u001b[0my_test\u001b[0m\u001b[0;34m.\u001b[0m\u001b[0mT\u001b[0m\u001b[0;34m\u001b[0m\u001b[0;34m\u001b[0m\u001b[0m\n",
      "\u001b[0;31mNameError\u001b[0m: name 'x_train' is not defined"
     ]
    }
   ],
   "source": [
    "x_train = x_train.T\n",
    "x_test = x_test.T\n",
    "y_train = y_train.T\n",
    "y_test = y_test.T"
   ]
  },
  {
   "cell_type": "code",
   "execution_count": null,
   "metadata": {},
   "outputs": [],
   "source": [
    "costs = [] \n",
    "num_epochs = 2000\n",
    "with tf.Session() as sess:\n",
    "    sess.run(init)\n",
    "    for epoch in range(num_epochs):\n",
    "        _ , temp_cost = sess.run([optimizer, cost], feed_dict={X: x_train, Y: y_train})\n",
    "          \n",
    "        if print_cost == True and epoch % 100 == 0:\n",
    "                print (\"Cost after epoch %i: %f\" % (epoch, temp_cost))\n",
    "        if print_cost == True and epoch % 20 == 0:\n",
    "                costs.append(temp_cost)    "
   ]
  },
  {
   "cell_type": "code",
   "execution_count": null,
   "metadata": {},
   "outputs": [],
   "source": []
  }
 ],
 "metadata": {
  "kernelspec": {
   "display_name": "Python 3",
   "language": "python",
   "name": "python3"
  },
  "language_info": {
   "codemirror_mode": {
    "name": "ipython",
    "version": 3
   },
   "file_extension": ".py",
   "mimetype": "text/x-python",
   "name": "python",
   "nbconvert_exporter": "python",
   "pygments_lexer": "ipython3",
   "version": "3.7.3"
  }
 },
 "nbformat": 4,
 "nbformat_minor": 2
}
